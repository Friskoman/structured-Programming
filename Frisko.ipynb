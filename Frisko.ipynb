{
 "cells": [
  {
   "cell_type": "code",
   "execution_count": 1,
   "metadata": {},
   "outputs": [],
   "source": [
    "import pandas as pd\n",
    "import json\n",
    "import random"
   ]
  },
  {
   "cell_type": "markdown",
   "metadata": {},
   "source": [
    "### Data Loading"
   ]
  },
  {
   "cell_type": "code",
   "execution_count": 2,
   "metadata": {},
   "outputs": [],
   "source": [
    "sessions = pd.read_csv('data/sessions.csv')\n",
    "sessions = sessions.sample(10000) # neem niet de hele csv maar slechts 10000 random "
   ]
  },
  {
   "cell_type": "code",
   "execution_count": 11,
   "metadata": {},
   "outputs": [],
   "source": [
    "prev_viewed = pd.read_csv('data/profiles_previously_viewed.csv', encoding = \"ISO-8859-1\") # zorg dat je de juiste encoding gebruikt om de data te lezen."
   ]
  },
  {
   "cell_type": "code",
   "execution_count": 9,
   "metadata": {},
   "outputs": [],
   "source": [
    "profiles = pd.read_csv('data/profiles.csv')\n",
    "profiles = profiles[profiles[\"id\"].isin(sessions[\"profid\"])] # only take the profiles which occurred in the chosen sessions"
   ]
  },
  {
   "cell_type": "code",
   "execution_count": 10,
   "metadata": {},
   "outputs": [],
   "source": [
    "products = pd.read_csv('data/products.csv', encoding = \"ISO-8859-1\")"
   ]
  },
  {
   "cell_type": "markdown",
   "metadata": {},
   "source": [
    "### User 2 user (collaborative filtering)"
   ]
  },
  {
   "cell_type": "code",
   "execution_count": 6,
   "metadata": {},
   "outputs": [],
   "source": [
    "# groepeer per segment, en verzamel similar users\n",
    "similar_users = sessions.groupby('segment')['profid'].apply(list).reset_index()"
   ]
  },
  {
   "cell_type": "code",
   "execution_count": 7,
   "metadata": {},
   "outputs": [],
   "source": [
    "def get_segment_for_profid(sessions, profid):\n",
    "    \"\"\"Deze functie get het segment voor een gegeven profile.\"\"\"\n",
    "    \n",
    "    segment = sessions[sessions['profid']==profid]['segment']\n",
    "    \n",
    "    try:\n",
    "        return segment.iloc[0]\n",
    "    except:\n",
    "        return\n",
    "    \n",
    "    \n",
    "def get_prev_viewed_for_profid(prev_viewed, profid):\n",
    "    \"\"\"Deze functie get de previously viewed products voor een gegeven profile.\"\"\"\n",
    "    viewed_products = prev_viewed[prev_viewed['profid']==profid]\n",
    "    return viewed_products\n",
    "\n",
    "\n",
    "def recommend_user2user(prev_viewed, to_recommend_profile):\n",
    "    \"\"\"Deze functie doet een user2user recommendation.\"\"\"\n",
    "    \n",
    "    # bepaal eerst in welk segment de user zit\n",
    "    segment = get_segment_for_profid(sessions, to_recommend_profile)\n",
    "\n",
    "    # pak vervolgens alle users in dat segment BEHALVE de user zelf\n",
    "    users_in_segment = similar_users[similar_users['segment']==segment]['profid'].iloc[0]\n",
    "    users_in_segment = set(users_in_segment)\n",
    "    users_in_segment = users_in_segment - set([to_recommend_profile])\n",
    "    users_in_segment = list(users_in_segment)\n",
    "\n",
    "    # loop door alle users in dat segment TOTDAT er iemand is die óók products heeft bekeken.\n",
    "    # wanneer je die user vindt, recommenden we simpelweg die producten.\n",
    "    for u in users_in_segment:\n",
    "        viewed = get_prev_viewed_for_profid(prev_viewed, u)\n",
    "\n",
    "        if len(viewed) >= 1:\n",
    "            recommendations = viewed[['propid']].reset_index(drop=True)\n",
    "            recommendations.columns = ['recommended_products']\n",
    "            return recommendations"
   ]
  },
  {
   "cell_type": "code",
   "execution_count": 12,
   "metadata": {},
   "outputs": [
    {
     "data": {
      "text/html": [
       "<div>\n",
       "<style scoped>\n",
       "    .dataframe tbody tr th:only-of-type {\n",
       "        vertical-align: middle;\n",
       "    }\n",
       "\n",
       "    .dataframe tbody tr th {\n",
       "        vertical-align: top;\n",
       "    }\n",
       "\n",
       "    .dataframe thead th {\n",
       "        text-align: right;\n",
       "    }\n",
       "</style>\n",
       "<table border=\"1\" class=\"dataframe\">\n",
       "  <thead>\n",
       "    <tr style=\"text-align: right;\">\n",
       "      <th></th>\n",
       "      <th>id</th>\n",
       "      <th>latestactivity</th>\n",
       "      <th>segment</th>\n",
       "    </tr>\n",
       "  </thead>\n",
       "  <tbody>\n",
       "    <tr>\n",
       "      <th>0</th>\n",
       "      <td>5a393d68ed295900010384ca</td>\n",
       "      <td>2019-01-13 14:08:33.995000</td>\n",
       "      <td>BOUNCER</td>\n",
       "    </tr>\n",
       "    <tr>\n",
       "      <th>63</th>\n",
       "      <td>5a397129a825610001bbb8b5</td>\n",
       "      <td>2019-01-21 18:22:19.123000</td>\n",
       "      <td>BROWSER</td>\n",
       "    </tr>\n",
       "    <tr>\n",
       "      <th>283</th>\n",
       "      <td>5a3a12fced2959000104238e</td>\n",
       "      <td>2018-09-12 14:56:00.233000</td>\n",
       "      <td>BROWSER</td>\n",
       "    </tr>\n",
       "    <tr>\n",
       "      <th>426</th>\n",
       "      <td>5a3a2444ed29590001043354</td>\n",
       "      <td>2018-11-19 08:24:06.722000</td>\n",
       "      <td>JUDGER</td>\n",
       "    </tr>\n",
       "    <tr>\n",
       "      <th>544</th>\n",
       "      <td>5a3a2e20a825610001bc2bcd</td>\n",
       "      <td>2017-12-20 09:33:18.266000</td>\n",
       "      <td>NaN</td>\n",
       "    </tr>\n",
       "    <tr>\n",
       "      <th>...</th>\n",
       "      <td>...</td>\n",
       "      <td>...</td>\n",
       "      <td>...</td>\n",
       "    </tr>\n",
       "    <tr>\n",
       "      <th>2079591</th>\n",
       "      <td>5c482b8849b5900001f411b3</td>\n",
       "      <td>2019-01-23 08:54:52.371000</td>\n",
       "      <td>NaN</td>\n",
       "    </tr>\n",
       "    <tr>\n",
       "      <th>2079930</th>\n",
       "      <td>5c483e4049b5900001f42c25</td>\n",
       "      <td>2019-01-23 10:13:30.143000</td>\n",
       "      <td>NaN</td>\n",
       "    </tr>\n",
       "    <tr>\n",
       "      <th>2080012</th>\n",
       "      <td>5c4734a2d8f58d0001a0f4ec</td>\n",
       "      <td>2019-01-22 15:20:40.511000</td>\n",
       "      <td>BROWSER</td>\n",
       "    </tr>\n",
       "    <tr>\n",
       "      <th>2080188</th>\n",
       "      <td>5c473eb9d8f58d0001a10246</td>\n",
       "      <td>NaN</td>\n",
       "      <td>NaN</td>\n",
       "    </tr>\n",
       "    <tr>\n",
       "      <th>2081395</th>\n",
       "      <td>5c48542a5595ce000183354d</td>\n",
       "      <td>2019-01-23 12:12:08.370000</td>\n",
       "      <td>NaN</td>\n",
       "    </tr>\n",
       "  </tbody>\n",
       "</table>\n",
       "<p>9857 rows × 3 columns</p>\n",
       "</div>"
      ],
      "text/plain": [
       "                               id              latestactivity  segment\n",
       "0        5a393d68ed295900010384ca  2019-01-13 14:08:33.995000  BOUNCER\n",
       "63       5a397129a825610001bbb8b5  2019-01-21 18:22:19.123000  BROWSER\n",
       "283      5a3a12fced2959000104238e  2018-09-12 14:56:00.233000  BROWSER\n",
       "426      5a3a2444ed29590001043354  2018-11-19 08:24:06.722000   JUDGER\n",
       "544      5a3a2e20a825610001bc2bcd  2017-12-20 09:33:18.266000      NaN\n",
       "...                           ...                         ...      ...\n",
       "2079591  5c482b8849b5900001f411b3  2019-01-23 08:54:52.371000      NaN\n",
       "2079930  5c483e4049b5900001f42c25  2019-01-23 10:13:30.143000      NaN\n",
       "2080012  5c4734a2d8f58d0001a0f4ec  2019-01-22 15:20:40.511000  BROWSER\n",
       "2080188  5c473eb9d8f58d0001a10246                         NaN      NaN\n",
       "2081395  5c48542a5595ce000183354d  2019-01-23 12:12:08.370000      NaN\n",
       "\n",
       "[9857 rows x 3 columns]"
      ]
     },
     "execution_count": 12,
     "metadata": {},
     "output_type": "execute_result"
    }
   ],
   "source": [
    "profiles"
   ]
  },
  {
   "cell_type": "code",
   "execution_count": null,
   "metadata": {},
   "outputs": [],
   "source": []
  },
  {
   "cell_type": "code",
   "execution_count": 13,
   "metadata": {},
   "outputs": [
    {
     "data": {
      "text/html": [
       "<div>\n",
       "<style scoped>\n",
       "    .dataframe tbody tr th:only-of-type {\n",
       "        vertical-align: middle;\n",
       "    }\n",
       "\n",
       "    .dataframe tbody tr th {\n",
       "        vertical-align: top;\n",
       "    }\n",
       "\n",
       "    .dataframe thead th {\n",
       "        text-align: right;\n",
       "    }\n",
       "</style>\n",
       "<table border=\"1\" class=\"dataframe\">\n",
       "  <thead>\n",
       "    <tr style=\"text-align: right;\">\n",
       "      <th></th>\n",
       "      <th>recommended_products</th>\n",
       "    </tr>\n",
       "  </thead>\n",
       "  <tbody>\n",
       "    <tr>\n",
       "      <th>0</th>\n",
       "      <td>39408</td>\n",
       "    </tr>\n",
       "    <tr>\n",
       "      <th>1</th>\n",
       "      <td>35419</td>\n",
       "    </tr>\n",
       "    <tr>\n",
       "      <th>2</th>\n",
       "      <td>35431</td>\n",
       "    </tr>\n",
       "  </tbody>\n",
       "</table>\n",
       "</div>"
      ],
      "text/plain": [
       "  recommended_products\n",
       "0                39408\n",
       "1                35419\n",
       "2                35431"
      ]
     },
     "execution_count": 13,
     "metadata": {},
     "output_type": "execute_result"
    }
   ],
   "source": [
    "to_recommend_profile = \"5a393d68ed295900010384ca\"\n",
    "recommend_user2user(prev_viewed, to_recommend_profile)"
   ]
  },
  {
   "cell_type": "markdown",
   "metadata": {},
   "source": [
    "### Item 2 item (content filtering)"
   ]
  },
  {
   "cell_type": "code",
   "execution_count": 14,
   "metadata": {},
   "outputs": [],
   "source": [
    "def get_product_category_for_pid(products, pid):\n",
    "    category = products[products['id']==pid][\"category\"]\n",
    "    \n",
    "    try:\n",
    "        return category.iloc[0]\n",
    "    except:\n",
    "        return"
   ]
  },
  {
   "cell_type": "code",
   "execution_count": 15,
   "metadata": {},
   "outputs": [],
   "source": [
    "def recommend_item2item(prev_viewed, similar_products, products, to_recommend_profile, amount=4):\n",
    "    \"\"\"Deze functie doet een recommendation obv item2item.\"\"\"\n",
    "    \n",
    "    # check welke producten de user voorheen heeft bekeken\n",
    "    previouly_viewed_by_user = get_prev_viewed_for_profid(prev_viewed, to_recommend_profile)\n",
    "\n",
    "    # als er producten bekeken zijn, pak dan het eerste product.\n",
    "    if len(previouly_viewed_by_user) >= 1:\n",
    "        product_to_compare = previouly_viewed_by_user.iloc[0]['propid']\n",
    "        \n",
    "    else: # als er geen producten bekeken zijn, kunnen we geen item2item recommendation maken.\n",
    "        print(\"De user heeft nog niks bekeken of bestaat niet.\")\n",
    "        return\n",
    "    \n",
    "    # get de category voor dat specifieke product\n",
    "    category = get_product_category_for_pid(products, product_to_compare)\n",
    "\n",
    "    # check welke andere producten er in die categorie zitten\n",
    "    products_in_category = set(similar_products[similar_products['category']==category]['id'].iloc[0])\n",
    "    \n",
    "    # pak ALLE producten uit die category, BEHALVE de bekeken producten\n",
    "    recommended_products = products_in_category - set(previouly_viewed_by_user['propid'])\n",
    "    \n",
    "    # recommend een x aantal random producten uit diezelfde categorie.\n",
    "    try:\n",
    "        recommended_products = random.sample(recommended_products, amount)\n",
    "        return recommended_products\n",
    "    except:\n",
    "        print('Er ging iets mis.')\n",
    "        return"
   ]
  },
  {
   "cell_type": "code",
   "execution_count": 16,
   "metadata": {},
   "outputs": [],
   "source": [
    "# groepeer per category, en verzamel similar products\n",
    "similar_products = products.groupby('category')[\"id\"].apply(list).reset_index()\n"
   ]
  },
  {
   "cell_type": "code",
   "execution_count": 19,
   "metadata": {},
   "outputs": [
    {
     "name": "stderr",
     "output_type": "stream",
     "text": [
      "<ipython-input-15-96f6d2f989a8>:26: DeprecationWarning: Sampling from a set deprecated\n",
      "since Python 3.9 and will be removed in a subsequent version.\n",
      "  recommended_products = random.sample(recommended_products, amount)\n"
     ]
    },
    {
     "data": {
      "text/plain": [
       "['21239', '26378', '38423-3pack', '40320']"
      ]
     },
     "execution_count": 19,
     "metadata": {},
     "output_type": "execute_result"
    }
   ],
   "source": [
    "to_recommend_profile = \"5a393d68ed295900010384ca\"\n",
    "recommend_item2item(prev_viewed, similar_products, products, to_recommend_profile, amount=4)"
   ]
  },
  {
   "cell_type": "code",
   "execution_count": null,
   "metadata": {},
   "outputs": [],
   "source": []
  },
  {
   "cell_type": "code",
   "execution_count": 286,
   "metadata": {},
   "outputs": [],
   "source": []
  },
  {
   "cell_type": "code",
   "execution_count": null,
   "metadata": {},
   "outputs": [],
   "source": []
  }
 ],
 "metadata": {
  "kernelspec": {
   "display_name": "Python 3",
   "language": "python",
   "name": "python3"
  },
  "language_info": {
   "codemirror_mode": {
    "name": "ipython",
    "version": 3
   },
   "file_extension": ".py",
   "mimetype": "text/x-python",
   "name": "python",
   "nbconvert_exporter": "python",
   "pygments_lexer": "ipython3",
   "version": "3.9.2"
  }
 },
 "nbformat": 4,
 "nbformat_minor": 4
}
